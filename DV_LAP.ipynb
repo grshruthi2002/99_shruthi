{
  "cells": [
    {
      "cell_type": "code",
      "execution_count": null,
      "metadata": {
        "colab": {
          "base_uri": "https://localhost:8080/"
        },
        "id": "wK6ZUhG3i66R",
        "outputId": "83d64345-7a5f-4ee0-da79-ed597a90a4ee"
      },
      "outputs": [
        {
          "name": "stdout",
          "output_type": "stream",
          "text": [
            "[120  85  90 110  95 100 105  85 115 130 125 140]\n"
          ]
        }
      ],
      "source": [
        "import numpy as np\n",
        "rainfall_data= [120, 85, 90, 110, 95, 100, 105, 85, 115, 130, 125, 140]\n",
        "rainfall_array=np.array(rainfall_data)\n",
        "print(rainfall_array)"
      ]
    },
    {
      "cell_type": "code",
      "execution_count": null,
      "metadata": {
        "colab": {
          "base_uri": "https://localhost:8080/"
        },
        "id": "13gBrQCkmIrK",
        "outputId": "2dbef37e-49bf-4208-c8ee-3a1ec2fc9205"
      },
      "outputs": [
        {
          "name": "stdout",
          "output_type": "stream",
          "text": [
            "[120  85  90]\n"
          ]
        }
      ],
      "source": [
        "first_quater=rainfall_array[:3]\n",
        "print(first_quater)\n",
        "\n"
      ]
    },
    {
      "cell_type": "code",
      "execution_count": null,
      "metadata": {
        "colab": {
          "base_uri": "https://localhost:8080/"
        },
        "id": "Ym8Yp0z0mIBT",
        "outputId": "169edfcb-8b6a-4109-cdfe-d898db9b134c"
      },
      "outputs": [
        {
          "name": "stdout",
          "output_type": "stream",
          "text": [
            "105\n"
          ]
        }
      ],
      "source": [
        "jully_rainfall=rainfall_array[6]\n",
        "print(jully_rainfall)\n",
        "\n"
      ]
    },
    {
      "cell_type": "code",
      "execution_count": null,
      "metadata": {
        "colab": {
          "base_uri": "https://localhost:8080/"
        },
        "id": "xSeWV567nAOd",
        "outputId": "2f5ece7f-d96c-4b49-c7bf-4fc874e70f2f"
      },
      "outputs": [
        {
          "name": "stdout",
          "output_type": "stream",
          "text": [
            "Quarter 0: [120  85  90]\n",
            "Quarter 1: [110  95 100]\n",
            "Quarter 2: [105  85 115]\n",
            "Quarter 3: [130 125 140]\n"
          ]
        }
      ],
      "source": [
        "quarters = np.split(rainfall_array, 4)\n",
        "\n",
        "for i, quarter in enumerate(quarters, start=0):\n",
        "    print(f\"Quarter {i}: {quarter}\")\n"
      ]
    },
    {
      "cell_type": "code",
      "execution_count": null,
      "metadata": {
        "colab": {
          "base_uri": "https://localhost:8080/"
        },
        "id": "oOba-P2loHF7",
        "outputId": "49341151-cf6b-4e3b-9f3c-c4b08d338347"
      },
      "outputs": [
        {
          "name": "stdout",
          "output_type": "stream",
          "text": [
            "Quarter 0: Total Rainfall = 295, Highest Rainfall = 120 (Month 1)\n",
            "Quarter 1: Total Rainfall = 305, Highest Rainfall = 110 (Month 1)\n",
            "Quarter 2: Total Rainfall = 305, Highest Rainfall = 115 (Month 3)\n",
            "Quarter 3: Total Rainfall = 395, Highest Rainfall = 140 (Month 3)\n"
          ]
        }
      ],
      "source": [
        "quarters = np.split(rainfall_array, 4)\n",
        "\n",
        "for i, quarter in enumerate(quarters, start=0):\n",
        "    total_rainfall = np.sum(quarter)\n",
        "    max_rainfall = np.max(quarter)\n",
        "    max_rainfall_month = np.argmax(quarter) + 1\n",
        "    print(f\"Quarter {i}: Total Rainfall = {total_rainfall}, Highest Rainfall = {max_rainfall} (Month {max_rainfall_month})\")\n"
      ]
    },
    {
      "cell_type": "markdown",
      "metadata": {
        "id": "a1epnQIzrdZ5"
      },
      "source": [
        "1.a:Basic NumPy Array Operations\n"
      ]
    },
    {
      "cell_type": "code",
      "execution_count": null,
      "metadata": {
        "colab": {
          "base_uri": "https://localhost:8080/"
        },
        "id": "sqclw9BsqSas",
        "outputId": "44891051-100b-4443-9cae-f531be0c2c88"
      },
      "outputs": [
        {
          "name": "stdout",
          "output_type": "stream",
          "text": [
            "[[85 92 78 90]\n",
            " [88 79 85 93]\n",
            " [91 85 87 88]\n",
            " [76 88 84 91]]\n"
          ]
        }
      ],
      "source": [
        "#Create a NumPy array from the given dataset.\n",
        "data=[\n",
        "    [85,92,78,90],\n",
        "    [88,79,85,93],\n",
        "    [91,85,87,88],\n",
        "    [76,88,84,91]\n",
        "]\n",
        "scores_array=np.array(data)\n",
        "print(scores_array)"
      ]
    },
    {
      "cell_type": "code",
      "execution_count": null,
      "metadata": {
        "colab": {
          "base_uri": "https://localhost:8080/"
        },
        "id": "nfrFMqmHrUOS",
        "outputId": "b7036249-ce1d-44ee-a801-4f1863ead203"
      },
      "outputs": [
        {
          "name": "stdout",
          "output_type": "stream",
          "text": [
            "shape:(4, 4),\n",
            "size:16,\n",
            "dytype:int64\n"
          ]
        }
      ],
      "source": [
        "#Retrieve the attributes of the array (shape, size, dtype).\n",
        "shape=scores_array.shape\n",
        "size=scores_array.size\n",
        "dtype=scores_array.dtype\n",
        "print(f\"shape:{shape},\\nsize:{size},\\ndytype:{dtype}\")\n"
      ]
    },
    {
      "cell_type": "code",
      "execution_count": null,
      "metadata": {
        "colab": {
          "base_uri": "https://localhost:8080/"
        },
        "id": "Ec-fMngZswI3",
        "outputId": "dba22de4-8d7f-417a-b4be-fb36f5230ab8"
      },
      "outputs": [
        {
          "name": "stdout",
          "output_type": "stream",
          "text": [
            "[[85 92 78 90]\n",
            " [88 79 85 93]]\n"
          ]
        }
      ],
      "source": [
        "#Slice the array to get the scores of the first two students.\n",
        "first_two_students=scores_array[:2, :]\n",
        "print(first_two_students)"
      ]
    },
    {
      "cell_type": "code",
      "execution_count": null,
      "metadata": {
        "colab": {
          "base_uri": "https://localhost:8080/"
        },
        "id": "ihmpGfO4txOl",
        "outputId": "761b2166-3f5f-4161-a6fe-cde4eeadae61"
      },
      "outputs": [
        {
          "name": "stdout",
          "output_type": "stream",
          "text": [
            "79\n"
          ]
        }
      ],
      "source": [
        "#Index the array to get the score of the second student in Chemistry.\n",
        "chemistry_scores=scores_array[1,1]\n",
        "print(chemistry_scores)"
      ]
    },
    {
      "cell_type": "markdown",
      "metadata": {
        "id": "WgIudYk8uQHA"
      },
      "source": [
        "1.b: Basic NumPy Array Operations"
      ]
    },
    {
      "cell_type": "code",
      "execution_count": null,
      "metadata": {
        "colab": {
          "base_uri": "https://localhost:8080/"
        },
        "id": "eTTWDxwMuUqg",
        "outputId": "bb1e54f6-7f3b-40b7-f904-7a499e81c221"
      },
      "outputs": [
        {
          "name": "stdout",
          "output_type": "stream",
          "text": [
            "[12000 15000 17000 13000 16000 18000 20000 19000 17500 16000 15000 16500]\n"
          ]
        }
      ],
      "source": [
        "#Create a NumPy array from the sales revenue list.\n",
        "import numpy as np\n",
        "months = ['January', 'February', 'March', 'April', 'May', 'June', 'July', 'August', 'September', 'October', 'November', 'December']\n",
        "sales_revenue = [12000, 15000, 17000, 13000, 16000, 18000, 20000, 19000, 17500, 16000, 15000, 16500]\n",
        "sales_revenue_array = np.array(sales_revenue)\n",
        "print(sales_revenue_array)\n",
        "\n"
      ]
    },
    {
      "cell_type": "code",
      "execution_count": null,
      "metadata": {
        "colab": {
          "base_uri": "https://localhost:8080/"
        },
        "id": "8_BX_OVju_ya",
        "outputId": "60ea902a-8cc4-453d-f29d-67bd75a7900f"
      },
      "outputs": [
        {
          "name": "stdout",
          "output_type": "stream",
          "text": [
            "shape:(12,),size:12,dtype:int64\n"
          ]
        }
      ],
      "source": [
        "#Retrieve the attributes of the array (shape, size, dtype).\n",
        "shape=sales_revenue_array.shape\n",
        "size=sales_revenue_array.size\n",
        "dtype=sales_revenue_array.dtype\n",
        "print(f\"shape:{shape},size:{size},dtype:{dtype}\")\n"
      ]
    },
    {
      "cell_type": "code",
      "execution_count": null,
      "metadata": {
        "colab": {
          "base_uri": "https://localhost:8080/"
        },
        "id": "CgaIGaNRvjFn",
        "outputId": "f44b0a8e-993f-4490-be71-d60079eb4bd9"
      },
      "outputs": [
        {
          "name": "stdout",
          "output_type": "stream",
          "text": [
            "[12000 15000 17000 13000 16000 18000]\n"
          ]
        }
      ],
      "source": [
        "#Slice the array to get the sales revenue for the first half of the year.\n",
        "first_half_revenue=sales_revenue_array[:6]\n",
        "print(first_half_revenue)\n"
      ]
    },
    {
      "cell_type": "code",
      "execution_count": null,
      "metadata": {
        "colab": {
          "base_uri": "https://localhost:8080/"
        },
        "id": "IJVR_IIuv1xm",
        "outputId": "e2684142-725b-432d-a607-352536040025"
      },
      "outputs": [
        {
          "name": "stdout",
          "output_type": "stream",
          "text": [
            "16000\n"
          ]
        }
      ],
      "source": [
        "#Index the array to get the sales revenue for May.\n",
        "may_revenue=sales_revenue_array[4]\n",
        "print(may_revenue)\n"
      ]
    },
    {
      "cell_type": "code",
      "execution_count": null,
      "metadata": {
        "colab": {
          "base_uri": "https://localhost:8080/"
        },
        "id": "m4FKEFx5wFTs",
        "outputId": "8a1fc0d8-1641-4ef2-f999-369fdc67e8c1"
      },
      "outputs": [
        {
          "name": "stdout",
          "output_type": "stream",
          "text": [
            "195000\n"
          ]
        }
      ],
      "source": [
        "#Calculate the total sales revenue for the year\n",
        "total_revenue=np.sum(sales_revenue_array)\n",
        "print(total_revenue)"
      ]
    },
    {
      "cell_type": "code",
      "execution_count": null,
      "metadata": {
        "colab": {
          "base_uri": "https://localhost:8080/"
        },
        "id": "NRDH4ejQwTvq",
        "outputId": "265ea695-68d1-4efb-98a4-d56938a5b9a6"
      },
      "outputs": [
        {
          "name": "stdout",
          "output_type": "stream",
          "text": [
            "Month with highest sales revenue: July\n"
          ]
        }
      ],
      "source": [
        "#Find the month with the highest sales revenue. Expected Output: Shape: (12,) Size: 12 Data type: int32 First half of the year sales revenue: [12000 15000 17000 13000 16000 18000] Sales revenue for May: 16000 Total sales revenue for the year: 195500 Month with highest sales revenue: July\n",
        "max_sales_index = sales_revenue_array.argmax()\n",
        "month_with_highest_sales = months[max_sales_index]\n",
        "print(\"Month with highest sales revenue:\", month_with_highest_sales)"
      ]
    },
    {
      "cell_type": "markdown",
      "metadata": {
        "id": "MwRvQAoGVNAh"
      },
      "source": [
        "1.c: Universal Functions"
      ]
    },
    {
      "cell_type": "code",
      "execution_count": null,
      "metadata": {
        "colab": {
          "base_uri": "https://localhost:8080/"
        },
        "id": "jiIj5HlAVORS",
        "outputId": "5fc2ff3a-aec4-482e-85b3-67c4372a337a"
      },
      "outputs": [
        {
          "output_type": "stream",
          "name": "stdout",
          "text": [
            "Running Speed Array: [10.5  9.8 11.2 10.   9.7]\n",
            "Jump Height Array: [2.1 2.3 2.  2.4 2.2]\n",
            "Throw Distance Array: [60.5 62.  59.8 61.2 63.5]\n"
          ]
        }
      ],
      "source": [
        "#Create NumPy Arrays for Each Performance Metric\n",
        "import numpy as np\n",
        "performance_data = {\n",
        "    'running_speed': [10.5, 9.8, 11.2, 10.0, 9.7],\n",
        "    'jump_height': [2.1, 2.3, 2.0, 2.4, 2.2],\n",
        "    'throw_distance': [60.5, 62.0, 59.8, 61.2, 63.5]\n",
        "}\n",
        "running_speed = np.array(performance_data['running_speed'])\n",
        "jump_height = np.array(performance_data['jump_height'])\n",
        "throw_distance = np.array(performance_data['throw_distance'])\n",
        "print(\"Running Speed Array:\", running_speed)\n",
        "print(\"Jump Height Array:\", jump_height)\n",
        "print(\"Throw Distance Array:\", throw_distance)\n",
        "\n"
      ]
    },
    {
      "cell_type": "code",
      "execution_count": null,
      "metadata": {
        "id": "-A2pZE5aZMAl",
        "colab": {
          "base_uri": "https://localhost:8080/"
        },
        "outputId": "3c61f673-ff60-4511-f238-9ca7c6e52782"
      },
      "outputs": [
        {
          "output_type": "stream",
          "name": "stdout",
          "text": [
            "Squared Running Speeds: [110.25  96.04 125.44 100.    94.09]\n"
          ]
        }
      ],
      "source": [
        "#Calculate the square of the running speeds using a universal function.\n",
        "running_speed = np.array(performance_data['running_speed'])\n",
        "squared_running_speed = np.square(running_speed)\n",
        "print(\"Squared Running Speeds:\", squared_running_speed)\n"
      ]
    },
    {
      "cell_type": "code",
      "source": [
        "#Normalize the Jump Heights.\n",
        "mean_jump_height = np.mean(jump_height)\n",
        "std_jump_height = np.std(jump_height)\n",
        "\n",
        "normalized_jump_height = (jump_height - mean_jump_height) / std_jump_height\n",
        "print(\"Normalized Jump Heights:\", normalized_jump_height)\n"
      ],
      "metadata": {
        "colab": {
          "base_uri": "https://localhost:8080/"
        },
        "id": "0hTSYoXstWoI",
        "outputId": "0b729223-995e-48f3-e888-fd537cfbd3bd"
      },
      "execution_count": null,
      "outputs": [
        {
          "output_type": "stream",
          "name": "stdout",
          "text": [
            "Normalized Jump Heights: [-0.70710678  0.70710678 -1.41421356  1.41421356  0.        ]\n"
          ]
        }
      ]
    },
    {
      "cell_type": "code",
      "source": [
        "#Apply the Exponential Function to the Throw Distances.\n",
        "exponential_throw_distance = np.exp(throw_distance)\n",
        "print(\"Exponential Throw Distances:\", exponential_throw_distance)\n"
      ],
      "metadata": {
        "colab": {
          "base_uri": "https://localhost:8080/"
        },
        "id": "i_kZ84N5tjVS",
        "outputId": "ceda9a25-dfa0-4b21-bb8f-aba69d9b76fa"
      },
      "execution_count": null,
      "outputs": [
        {
          "output_type": "stream",
          "name": "stdout",
          "text": [
            "Exponential Throw Distances: [1.88285187e+26 8.43835667e+26 9.34996570e+25 3.79159806e+26\n",
            " 3.78180909e+27]\n"
          ]
        }
      ]
    },
    {
      "cell_type": "code",
      "source": [
        "#Calculate the Logarithm of the Normalized Jump Heights.\n",
        "if np.all(normalized_jump_height > 0):\n",
        "    log_normalized_jump_height = np.log(normalized_jump_height)\n",
        "    print(\"Logarithm of Normalized Jump Heights:\", log_normalized_jump_height)\n",
        "else:\n",
        "    print(\"Normalized Jump Heights contain non-positive values, cannot compute logarithm.\")\n"
      ],
      "metadata": {
        "colab": {
          "base_uri": "https://localhost:8080/"
        },
        "id": "YnVIlPGKtthD",
        "outputId": "3eca4907-7d47-4fbe-a31f-f7297165173e"
      },
      "execution_count": null,
      "outputs": [
        {
          "output_type": "stream",
          "name": "stdout",
          "text": [
            "Normalized Jump Heights contain non-positive values, cannot compute logarithm.\n"
          ]
        }
      ]
    },
    {
      "cell_type": "code",
      "source": [
        "#Apply the Sine Function to the Running Speeds.\n",
        "sine_running_speed = np.sin(running_speed)\n",
        "print(\"Sine of Running Speeds:\", sine_running_speed)\n"
      ],
      "metadata": {
        "colab": {
          "base_uri": "https://localhost:8080/"
        },
        "id": "pS92H_EGt7xO",
        "outputId": "d72561ba-827c-44b4-f280-c3770036e65a"
      },
      "execution_count": null,
      "outputs": [
        {
          "output_type": "stream",
          "name": "stdout",
          "text": [
            "Sine of Running Speeds: [-0.87969576 -0.36647913 -0.97917773 -0.54402111 -0.27176063]\n"
          ]
        }
      ]
    },
    {
      "cell_type": "markdown",
      "source": [
        "1.d: Aggregate Functions"
      ],
      "metadata": {
        "id": "E0meVgQvuDxB"
      }
    },
    {
      "cell_type": "code",
      "source": [
        "#Import NumPy and Create Arrays.\n",
        "import numpy as np\n",
        "returns_data = {\n",
        "    'portfolio_A': [0.05, 0.02, 0.04, 0.03, 0.06, 0.01],\n",
        "    'portfolio_B': [0.04, 0.03, 0.05, 0.02, 0.01, 0.04],\n",
        "    'portfolio_C': [0.03, 0.01, 0.02, 0.03, 0.04, 0.05]\n",
        "}\n",
        "\n",
        "returns_A = np.array(returns_data['portfolio_A'])\n",
        "returns_B = np.array(returns_data['portfolio_B'])\n",
        "returns_C = np.array(returns_data['portfolio_C'])\n",
        "print(\"Returns for portfolio A:\", returns_A)\n",
        "print(\"Returns for portfolio B:\", returns_B)\n",
        "print(\"Returns for portfolio C:\", returns_C)\n"
      ],
      "metadata": {
        "colab": {
          "base_uri": "https://localhost:8080/"
        },
        "id": "zEZLVbI8uHTD",
        "outputId": "895e06e1-5e5d-468b-b85c-2d77f2e8010c"
      },
      "execution_count": null,
      "outputs": [
        {
          "output_type": "stream",
          "name": "stdout",
          "text": [
            "Returns for portfolio A: [0.05 0.02 0.04 0.03 0.06 0.01]\n",
            "Returns for portfolio B: [0.04 0.03 0.05 0.02 0.01 0.04]\n",
            "Returns for portfolio C: [0.03 0.01 0.02 0.03 0.04 0.05]\n"
          ]
        }
      ]
    },
    {
      "cell_type": "code",
      "source": [
        "# Calculate Total Return for Each Portfolio.\n",
        "total_return_A = np.sum(returns_A)\n",
        "total_return_B = np.sum(returns_B)\n",
        "total_return_C = np.sum(returns_C)\n",
        "\n",
        "print(f\"Total return for portfolio A: {total_return_A:.4f}\")\n",
        "print(f\"Total return for portfolio B: {total_return_B:.4f}\")\n",
        "print(f\"Total return for portfolio C: {total_return_C:.4f}\")\n"
      ],
      "metadata": {
        "colab": {
          "base_uri": "https://localhost:8080/"
        },
        "id": "_mDDdZDcvHH4",
        "outputId": "3488a312-cfa1-4521-f83b-8f5e83267487"
      },
      "execution_count": null,
      "outputs": [
        {
          "output_type": "stream",
          "name": "stdout",
          "text": [
            "Total return for portfolio A: 0.2100\n",
            "Total return for portfolio B: 0.1900\n",
            "Total return for portfolio C: 0.1800\n"
          ]
        }
      ]
    },
    {
      "cell_type": "code",
      "source": [
        "#Calculate Mean Monthly Return for Each Portfolio.\n",
        "mean_return_A = np.mean(returns_A)\n",
        "mean_return_B = np.mean(returns_B)\n",
        "mean_return_C = np.mean(returns_C)\n",
        "\n",
        "print(f\"Mean monthly return for portfolio A: {mean_return_A:.4f}\")\n",
        "print(f\"Mean monthly return for portfolio B: {mean_return_B:.4f}\")\n",
        "print(f\"Mean monthly return for portfolio C: {mean_return_C:.4f}\")\n"
      ],
      "metadata": {
        "colab": {
          "base_uri": "https://localhost:8080/"
        },
        "id": "26buWtPavR8g",
        "outputId": "ffaf1f82-b308-4f16-9a92-25f525348095"
      },
      "execution_count": null,
      "outputs": [
        {
          "output_type": "stream",
          "name": "stdout",
          "text": [
            "Mean monthly return for portfolio A: 0.0350\n",
            "Mean monthly return for portfolio B: 0.0317\n",
            "Mean monthly return for portfolio C: 0.0300\n"
          ]
        }
      ]
    },
    {
      "cell_type": "code",
      "source": [
        "# Find the Portfolio with the Highest Mean Return.\n",
        "mean_returns = {\n",
        "    'portfolio_A': mean_return_A,\n",
        "    'portfolio_B': mean_return_B,\n",
        "    'portfolio_C': mean_return_C\n",
        "}\n",
        "\n",
        "best_portfolio = max(mean_returns, key=mean_returns.get)\n",
        "print(f\"The portfolio with the highest mean return is {best_portfolio}\")\n"
      ],
      "metadata": {
        "colab": {
          "base_uri": "https://localhost:8080/"
        },
        "id": "Bund3FKivbnq",
        "outputId": "5096da4b-b881-4518-f6db-5aa377ef9ee8"
      },
      "execution_count": null,
      "outputs": [
        {
          "output_type": "stream",
          "name": "stdout",
          "text": [
            "The portfolio with the highest mean return is portfolio_A\n"
          ]
        }
      ]
    },
    {
      "cell_type": "code",
      "source": [
        "# Calculate the Overall Average Return Across All Portfolios.\n",
        "all_returns = np.concatenate([returns_A, returns_B, returns_C])\n",
        "overall_average_return = np.mean(all_returns)\n",
        "print(f\"Overall average return across all portfolios: {overall_average_return:.4f}\")\n"
      ],
      "metadata": {
        "colab": {
          "base_uri": "https://localhost:8080/"
        },
        "id": "hFUhuV11vjPD",
        "outputId": "b5b49e6b-0a00-4c12-ed44-f2c44e1b753e"
      },
      "execution_count": null,
      "outputs": [
        {
          "output_type": "stream",
          "name": "stdout",
          "text": [
            "Overall average return across all portfolios: 0.0322\n"
          ]
        }
      ]
    },
    {
      "cell_type": "code",
      "source": [
        "# Determine the Variance and Standard Deviation for Each Portfolio.\n",
        "variance_A = np.var(returns_A)\n",
        "std_dev_A = np.std(returns_A)\n",
        "\n",
        "variance_B = np.var(returns_B)\n",
        "std_dev_B = np.std(returns_B)\n",
        "\n",
        "variance_C = np.var(returns_C)\n",
        "std_dev_C = np.std(returns_C)\n",
        "\n",
        "print(f\"Variance and standard deviation for portfolio A: {variance_A:.4f}, {std_dev_A:.4f}\")\n",
        "print(f\"Variance and standard deviation for portfolio B: {variance_B:.4f}, {std_dev_B:.4f}\")\n",
        "print(f\"Variance and standard deviation for portfolio C: {variance_C:.4f}, {std_dev_C:.4f}\")\n"
      ],
      "metadata": {
        "colab": {
          "base_uri": "https://localhost:8080/"
        },
        "id": "YdS3M7GUvrlX",
        "outputId": "72dfbf23-74ee-49f1-fb2d-e63ea58df3fe"
      },
      "execution_count": null,
      "outputs": [
        {
          "output_type": "stream",
          "name": "stdout",
          "text": [
            "Variance and standard deviation for portfolio A: 0.0003, 0.0171\n",
            "Variance and standard deviation for portfolio B: 0.0002, 0.0134\n",
            "Variance and standard deviation for portfolio C: 0.0002, 0.0129\n"
          ]
        }
      ]
    },
    {
      "cell_type": "markdown",
      "source": [
        "Exercise 2.a: Analyzing Restaurant Performance"
      ],
      "metadata": {
        "id": "KE-LmGWsG0Zg"
      }
    },
    {
      "cell_type": "code",
      "source": [
        "import numpy as np\n",
        "import pandas as pd\n",
        "\n",
        "data = [(601, 12000, 8000, np.nan),\n",
        "        (602, 15000, 13000, 14000),\n",
        "        (603, 16000, np.nan, 12000),\n",
        "        (602, 15000, 13000, 14000),\n",
        "        (604, 11000, np.nan, 9000),\n",
        "        (601, 12000, 8000, np.nan)]\n",
        "\n",
        "data_array = np.array(data)\n",
        "df = pd.DataFrame(data_array, columns=['Branch ID', 'Food Sales', 'Beverage Sales', 'Dessert Sales'])\n",
        "missing_values = df.isnull().sum()\n",
        "duplicates = df.duplicated(subset='Branch ID', keep='first').sum()\n",
        "medians = df.median()\n",
        "df.fillna(medians, inplace=True)\n",
        "df.drop_duplicates(subset='Branch ID', keep='first', inplace=True)\n",
        "def min_max_normalize(column):\n",
        "    return (column - column.min()) / (column.max() - column.min())\n",
        "normalized_df = df.copy()\n",
        "normalized_df[['Food Sales', 'Beverage Sales', 'Dessert Sales']] = df[['Food Sales', 'Beverage Sales', 'Dessert Sales']].apply(min_max_normalize)\n",
        "normalized_stats = normalized_df[['Food Sales', 'Beverage Sales', 'Dessert Sales']].agg(['mean', 'median', 'std'])\n",
        "highest_variability_category = normalized_stats.loc['std'].idxmax()\n",
        "{\n",
        "    \"missing_values\": missing_values,\n",
        "    \"duplicates\": duplicates,\n",
        "    \"normalized_stats\": normalized_stats,\n",
        "    \"highest_variability_category\": highest_variability_category\n",
        "}\n"
      ],
      "metadata": {
        "colab": {
          "base_uri": "https://localhost:8080/"
        },
        "id": "pKbbdHLKIMgS",
        "outputId": "7423fa92-1756-49b4-b38a-a8221141a1ec"
      },
      "execution_count": null,
      "outputs": [
        {
          "output_type": "execute_result",
          "data": {
            "text/plain": [
              "{'missing_values': Branch ID         0\n",
              " Food Sales        0\n",
              " Beverage Sales    2\n",
              " Dessert Sales     2\n",
              " dtype: int64,\n",
              " 'duplicates': 2,\n",
              " 'normalized_stats':         Food Sales  Beverage Sales  Dessert Sales\n",
              " mean      0.500000        0.500000       0.600000\n",
              " median    0.500000        0.500000       0.700000\n",
              " std       0.476095        0.408248       0.432049,\n",
              " 'highest_variability_category': 'Food Sales'}"
            ]
          },
          "metadata": {},
          "execution_count": 8
        }
      ]
    },
    {
      "cell_type": "markdown",
      "source": [],
      "metadata": {
        "id": "56aDK6wAI0HP"
      }
    }
  ],
  "metadata": {
    "colab": {
      "provenance": []
    },
    "kernelspec": {
      "display_name": "Python 3",
      "name": "python3"
    },
    "language_info": {
      "name": "python"
    }
  },
  "nbformat": 4,
  "nbformat_minor": 0
}